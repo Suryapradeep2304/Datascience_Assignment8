{
 "cells": [
  {
   "cell_type": "code",
   "execution_count": 35,
   "metadata": {},
   "outputs": [
    {
     "data": {
      "text/plain": [
       "[1, 2, 0, 1, 2, 3, 4, 0, 1, 2]"
      ]
     },
     "execution_count": 35,
     "metadata": {},
     "output_type": "execute_result"
    }
   ],
   "source": [
    "import pandas as pd\n",
    "import numpy as np\n",
    "\n",
    "df = pd.DataFrame({'X': [7, 2, 0, 3, 4, 2, 5, 0, 3, 4]})\n",
    "df_series = df['X']\n",
    "izero = np.r_[-1, (df['X'] == 0).nonzero()[0]] # indices of zeros\n",
    "idx = np.arange(len(df))\n",
    "df['Y'] = idx - izero[np.searchsorted(izero - 1, idx) - 1] #New column Y\n",
    "\n",
    "Y"
   ]
  },
  {
   "cell_type": "code",
   "execution_count": 62,
   "metadata": {},
   "outputs": [
    {
     "data": {
      "text/plain": [
       "2015-01-01    0.024070\n",
       "2015-01-02    0.643061\n",
       "2015-01-05    0.884034\n",
       "2015-01-06    0.438264\n",
       "2015-01-07    0.167521\n",
       "2015-01-08    0.761859\n",
       "2015-01-09    0.536651\n",
       "2015-01-12    0.883331\n",
       "2015-01-13    0.607782\n",
       "2015-01-14    0.239858\n",
       "2015-01-15    0.303681\n",
       "2015-01-16    0.861593\n",
       "2015-01-19    0.157952\n",
       "2015-01-20    0.690138\n",
       "2015-01-21    0.936324\n",
       "2015-01-22    0.394444\n",
       "2015-01-23    0.331057\n",
       "2015-01-26    0.219979\n",
       "2015-01-27    0.223376\n",
       "2015-01-28    0.097078\n",
       "2015-01-29    0.703768\n",
       "2015-01-30    0.347991\n",
       "2015-02-02    0.819372\n",
       "2015-02-03    0.749958\n",
       "2015-02-04    0.101430\n",
       "2015-02-05    0.897667\n",
       "2015-02-06    0.281913\n",
       "2015-02-09    0.118241\n",
       "2015-02-10    0.575270\n",
       "2015-02-11    0.438516\n",
       "                ...   \n",
       "2015-11-20    0.922844\n",
       "2015-11-23    0.149493\n",
       "2015-11-24    0.653474\n",
       "2015-11-25    0.371859\n",
       "2015-11-26    0.065559\n",
       "2015-11-27    0.321667\n",
       "2015-11-30    0.048108\n",
       "2015-12-01    0.701409\n",
       "2015-12-02    0.068694\n",
       "2015-12-03    0.272067\n",
       "2015-12-04    0.037843\n",
       "2015-12-07    0.923719\n",
       "2015-12-08    0.377691\n",
       "2015-12-09    0.105501\n",
       "2015-12-10    0.478703\n",
       "2015-12-11    0.751888\n",
       "2015-12-14    0.578340\n",
       "2015-12-15    0.855527\n",
       "2015-12-16    0.245169\n",
       "2015-12-17    0.494816\n",
       "2015-12-18    0.257172\n",
       "2015-12-21    0.140485\n",
       "2015-12-22    0.602881\n",
       "2015-12-23    0.339030\n",
       "2015-12-24    0.016905\n",
       "2015-12-25    0.076068\n",
       "2015-12-28    0.393665\n",
       "2015-12-29    0.749118\n",
       "2015-12-30    0.615797\n",
       "2015-12-31    0.386680\n",
       "Freq: B, Length: 261, dtype: float64"
      ]
     },
     "execution_count": 62,
     "metadata": {},
     "output_type": "execute_result"
    }
   ],
   "source": [
    "import pandas as pd\n",
    "import numpy as np\n",
    "\n",
    "dateidx = pd.date_range(start='01/01/2015', end='31/12/2015', freq='B') \n",
    "s = pd.Series(np.random.rand(len(dateidx)), index=dateidx)\n",
    "\n",
    "s"
   ]
  },
  {
   "cell_type": "code",
   "execution_count": 72,
   "metadata": {},
   "outputs": [
    {
     "data": {
      "text/plain": [
       "26.823704646211507"
      ]
     },
     "execution_count": 72,
     "metadata": {},
     "output_type": "execute_result"
    }
   ],
   "source": [
    "import pandas as pd\n",
    "import numpy as np\n",
    "\n",
    "dateidx = pd.date_range(start='01/01/2015', end='31/12/2015', freq='B') \n",
    "s = pd.Series(np.random.rand(len(dateidx)), index=dateidx)\n",
    "s[dateidx.weekday == 3].sum()\n"
   ]
  },
  {
   "cell_type": "code",
   "execution_count": 57,
   "metadata": {},
   "outputs": [
    {
     "data": {
      "text/plain": [
       "2015-01-31    0.513930\n",
       "2015-02-28    0.402429\n",
       "2015-03-31    0.601154\n",
       "2015-04-30    0.474698\n",
       "2015-05-31    0.442275\n",
       "2015-06-30    0.489184\n",
       "2015-07-31    0.621780\n",
       "2015-08-31    0.512154\n",
       "2015-09-30    0.512403\n",
       "2015-10-31    0.476516\n",
       "2015-11-30    0.471220\n",
       "2015-12-31    0.432719\n",
       "Freq: M, dtype: float64"
      ]
     },
     "execution_count": 57,
     "metadata": {},
     "output_type": "execute_result"
    }
   ],
   "source": [
    "import pandas as pd\n",
    "import numpy as np\n",
    "\n",
    "dateidx = pd.date_range(start='01/01/2015', end='31/12/2015', freq='B')\n",
    "s = pd.Series(np.random.rand(len(dateidx)), index=dateidx)\n",
    "s.resample('M').mean()"
   ]
  },
  {
   "cell_type": "code",
   "execution_count": 74,
   "metadata": {},
   "outputs": [
    {
     "data": {
      "text/plain": [
       "2015-01-31   2015-01-20\n",
       "2015-05-31   2015-04-28\n",
       "2015-09-30   2015-07-20\n",
       "2016-01-31   2015-10-29\n",
       "dtype: datetime64[ns]"
      ]
     },
     "execution_count": 74,
     "metadata": {},
     "output_type": "execute_result"
    }
   ],
   "source": [
    "import pandas as pd\n",
    "import numpy as np\n",
    "\n",
    "dateidx = pd.date_range(start='01/01/2015', end='31/12/2015', freq='B') \n",
    "s = pd.Series(np.random.rand(len(dateidx)), index=dateidx)\n",
    "s.groupby(pd.Grouper(freq='4M')).idxmax()"
   ]
  }
 ],
 "metadata": {
  "kernelspec": {
   "display_name": "Python 3",
   "language": "python",
   "name": "python3"
  },
  "language_info": {
   "codemirror_mode": {
    "name": "ipython",
    "version": 3
   },
   "file_extension": ".py",
   "mimetype": "text/x-python",
   "name": "python",
   "nbconvert_exporter": "python",
   "pygments_lexer": "ipython3",
   "version": "3.6.5"
  }
 },
 "nbformat": 4,
 "nbformat_minor": 2
}
